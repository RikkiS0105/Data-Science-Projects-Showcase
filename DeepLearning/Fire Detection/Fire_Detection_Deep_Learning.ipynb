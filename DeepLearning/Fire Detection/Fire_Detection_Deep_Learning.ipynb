{
  "nbformat": 4,
  "nbformat_minor": 0,
  "metadata": {
    "colab": {
      "name": "Fire Detection Deep Learning.ipynb",
      "provenance": [],
      "collapsed_sections": []
    },
    "kernelspec": {
      "name": "python3",
      "display_name": "Python 3"
    },
    "language_info": {
      "name": "python"
    }
  },
  "cells": [
    {
      "cell_type": "code",
      "metadata": {
        "colab": {
          "base_uri": "https://localhost:8080/"
        },
        "id": "ecih5PGm2_5n",
        "outputId": "3c2a2ef5-485c-4853-80a8-7cbb0b5e23d9"
      },
      "source": [
        "from google.colab import drive\n",
        "drive.mount('/content/drive')"
      ],
      "execution_count": 1,
      "outputs": [
        {
          "output_type": "stream",
          "name": "stdout",
          "text": [
            "Mounted at /content/drive\n"
          ]
        }
      ]
    },
    {
      "cell_type": "code",
      "source": [
        "cd /content/drive/MyDrive/Colab Notebooks/Deep Learning Projects/Fire Detection"
      ],
      "metadata": {
        "colab": {
          "base_uri": "https://localhost:8080/"
        },
        "id": "2LoO3ev6SgMf",
        "outputId": "53daf9c7-bacc-4d88-8209-c03eb0f0076c"
      },
      "execution_count": 2,
      "outputs": [
        {
          "output_type": "stream",
          "name": "stdout",
          "text": [
            "/content/drive/MyDrive/Colab Notebooks/Deep Learning Projects/Fire Detection\n"
          ]
        }
      ]
    },
    {
      "cell_type": "code",
      "metadata": {
        "id": "oC_rzJ0Z4cWN"
      },
      "source": [
        "import tensorflow\n",
        "from tensorflow.keras.models import Sequential\n",
        "from tensorflow.keras.layers import Dense, Dropout, Conv2D, MaxPool2D, Flatten\n",
        "import pandas as pd\n",
        "import numpy as np\n",
        "from tensorflow.keras.preprocessing.image import ImageDataGenerator\n",
        "from tensorflow.keras.preprocessing import image\n",
        "from sklearn.metrics import accuracy_score, f1_score, precision_score, recall_score"
      ],
      "execution_count": 3,
      "outputs": []
    },
    {
      "cell_type": "code",
      "metadata": {
        "id": "X2bR9dzN2qUx"
      },
      "source": [
        "import matplotlib.pyplot as plt"
      ],
      "execution_count": 4,
      "outputs": []
    },
    {
      "cell_type": "code",
      "source": [
        "!pip install split-folders"
      ],
      "metadata": {
        "colab": {
          "base_uri": "https://localhost:8080/"
        },
        "id": "14xJK8D1KbVi",
        "outputId": "ab76abf9-3a0e-4e19-af39-5cad13176ed9"
      },
      "execution_count": 5,
      "outputs": [
        {
          "output_type": "stream",
          "name": "stdout",
          "text": [
            "Collecting split-folders\n",
            "  Downloading split_folders-0.5.1-py3-none-any.whl (8.4 kB)\n",
            "Installing collected packages: split-folders\n",
            "Successfully installed split-folders-0.5.1\n"
          ]
        }
      ]
    },
    {
      "cell_type": "code",
      "source": [
        "cd /content/drive/MyDrive/Colab Notebooks/DeepLearning Datasets Jan 31 2022/Fire Detection/"
      ],
      "metadata": {
        "colab": {
          "base_uri": "https://localhost:8080/"
        },
        "id": "JPZaV5SdLDWG",
        "outputId": "964e97fa-e3a9-4c55-8b4b-b6d9062c035e"
      },
      "execution_count": 6,
      "outputs": [
        {
          "output_type": "stream",
          "name": "stdout",
          "text": [
            "/content/drive/MyDrive/Colab Notebooks/DeepLearning Datasets Jan 31 2022/Fire Detection\n"
          ]
        }
      ]
    },
    {
      "cell_type": "code",
      "source": [
        "import splitfolders\n",
        "splitfolders.ratio('fire_dataset', output=\"output\", seed=1337, ratio=(.8, 0.1,0.1))"
      ],
      "metadata": {
        "colab": {
          "base_uri": "https://localhost:8080/"
        },
        "id": "w2CBjBegLR1L",
        "outputId": "e0707c13-998e-43cd-9b51-5909b2f0a074"
      },
      "execution_count": 7,
      "outputs": [
        {
          "output_type": "stream",
          "name": "stderr",
          "text": [
            "Copying files: 999 files [04:22,  3.81 files/s]\n"
          ]
        }
      ]
    },
    {
      "cell_type": "code",
      "source": [
        "cd /content/drive/MyDrive/Colab Notebooks/Deep Learning Projects/Fire Detection"
      ],
      "metadata": {
        "colab": {
          "base_uri": "https://localhost:8080/"
        },
        "id": "TTTQYXwlSJeO",
        "outputId": "9ab8b38d-ebb5-478c-c136-d68e29f63b13"
      },
      "execution_count": 8,
      "outputs": [
        {
          "output_type": "stream",
          "name": "stdout",
          "text": [
            "/content/drive/MyDrive/Colab Notebooks/Deep Learning Projects/Fire Detection\n"
          ]
        }
      ]
    },
    {
      "cell_type": "code",
      "metadata": {
        "id": "eeA6-4Blw8Zz"
      },
      "source": [
        "training_path = r'/content/drive/MyDrive/Colab Notebooks/DeepLearning Datasets Jan 31 2022/Fire Detection/output/train'\n",
        "validation_path = r'/content/drive/MyDrive/Colab Notebooks/DeepLearning Datasets Jan 31 2022/Fire Detection/output/val'\n",
        "test_path = r'/content/drive/MyDrive/Colab Notebooks/DeepLearning Datasets Jan 31 2022/Fire Detection/output/test'"
      ],
      "execution_count": 9,
      "outputs": []
    },
    {
      "cell_type": "code",
      "metadata": {
        "id": "EAz3Uf6Vxkxb"
      },
      "source": [
        "train_datagen = ImageDataGenerator(rescale = 1/255, shear_range=0.2, zoom_range=0.2, horizontal_flip=True)\n",
        "val_datagen = ImageDataGenerator(rescale = 1/255)\n",
        "test_datagen = ImageDataGenerator(rescale = 1/255)"
      ],
      "execution_count": 10,
      "outputs": []
    },
    {
      "cell_type": "code",
      "metadata": {
        "colab": {
          "base_uri": "https://localhost:8080/"
        },
        "id": "eaU0u0QI0FsV",
        "outputId": "70ef306b-6972-4768-90d5-5e3a89c5ee98"
      },
      "source": [
        "training_set = train_datagen.flow_from_directory(training_path, target_size=(64,64), batch_size = 80, class_mode='binary')\n",
        "val_set = val_datagen.flow_from_directory(validation_path, target_size=(64,64), batch_size=99, class_mode='binary')\n",
        "test_set = test_datagen.flow_from_directory(test_path, target_size=(64,64), batch_size = 100, class_mode='binary')"
      ],
      "execution_count": 11,
      "outputs": [
        {
          "output_type": "stream",
          "name": "stdout",
          "text": [
            "Found 799 images belonging to 2 classes.\n",
            "Found 99 images belonging to 2 classes.\n",
            "Found 101 images belonging to 2 classes.\n"
          ]
        }
      ]
    },
    {
      "cell_type": "code",
      "metadata": {
        "id": "JC_fuqGa17JK"
      },
      "source": [
        "training_data = next(training_set)"
      ],
      "execution_count": 12,
      "outputs": []
    },
    {
      "cell_type": "code",
      "metadata": {
        "colab": {
          "base_uri": "https://localhost:8080/"
        },
        "id": "Q6i6vIFV0zFK",
        "outputId": "90b7edfd-65e6-4d78-edc6-b6d5bea86446"
      },
      "source": [
        "training_data[0].shape"
      ],
      "execution_count": 13,
      "outputs": [
        {
          "output_type": "execute_result",
          "data": {
            "text/plain": [
              "(80, 64, 64, 3)"
            ]
          },
          "metadata": {},
          "execution_count": 13
        }
      ]
    },
    {
      "cell_type": "code",
      "source": [
        "test_set[0][0].shape"
      ],
      "metadata": {
        "colab": {
          "base_uri": "https://localhost:8080/"
        },
        "id": "0t3TVpmMdNXZ",
        "outputId": "5e42aaff-af69-43c6-ae2a-7666d3c56bce"
      },
      "execution_count": 14,
      "outputs": [
        {
          "output_type": "execute_result",
          "data": {
            "text/plain": [
              "(100, 64, 64, 3)"
            ]
          },
          "metadata": {},
          "execution_count": 14
        }
      ]
    },
    {
      "cell_type": "code",
      "source": [
        "val_set[0][0].shape"
      ],
      "metadata": {
        "colab": {
          "base_uri": "https://localhost:8080/"
        },
        "id": "AXDuWFU0dmzt",
        "outputId": "a4dad472-3169-479d-f8fd-a80c3ef6358a"
      },
      "execution_count": 15,
      "outputs": [
        {
          "output_type": "execute_result",
          "data": {
            "text/plain": [
              "(99, 64, 64, 3)"
            ]
          },
          "metadata": {},
          "execution_count": 15
        }
      ]
    },
    {
      "cell_type": "code",
      "source": [
        "training_set.class_indices"
      ],
      "metadata": {
        "colab": {
          "base_uri": "https://localhost:8080/"
        },
        "id": "NGo9ABJ3Amfz",
        "outputId": "e1993ab1-0710-44c6-e404-4da476483e3d"
      },
      "execution_count": 16,
      "outputs": [
        {
          "output_type": "execute_result",
          "data": {
            "text/plain": [
              "{'fire_images': 0, 'non_fire_images': 1}"
            ]
          },
          "metadata": {},
          "execution_count": 16
        }
      ]
    },
    {
      "cell_type": "code",
      "metadata": {
        "colab": {
          "base_uri": "https://localhost:8080/",
          "height": 285
        },
        "id": "YmgHlRN-2V1I",
        "outputId": "bc27c776-94f3-4262-dff6-8c0e9bb2191e"
      },
      "source": [
        "classes = ['Fire', 'No Fire']\n",
        "plt.imshow(training_data[0][61])\n",
        "\n",
        "a = training_data[1][61]\n",
        "\n",
        "print(classes[int(a)])"
      ],
      "execution_count": 17,
      "outputs": [
        {
          "output_type": "stream",
          "name": "stdout",
          "text": [
            "Fire\n"
          ]
        },
        {
          "output_type": "display_data",
          "data": {
            "image/png": "[encoded data removed]",
            "text/plain": [
              "<Figure size 432x288 with 1 Axes>"
            ]
          },
          "metadata": {
            "needs_background": "light"
          }
        }
      ]
    },
    {
      "cell_type": "code",
      "metadata": {
        "id": "0OUQIr4-3BN8"
      },
      "source": [
        "classifier = Sequential()\n",
        "\n",
        "classifier.add(Conv2D(32,3,activation = 'relu', input_shape=(64,64,3)))\n",
        "classifier.add(MaxPool2D())\n",
        "\n",
        "classifier.add(Conv2D(64,3,activation = 'relu', input_shape=(64,64,3)))\n",
        "classifier.add(MaxPool2D())\n",
        "\n",
        "classifier.add(Conv2D(128,3,activation = 'relu', input_shape=(64,64,3)))\n",
        "classifier.add(MaxPool2D())\n",
        "\n",
        "classifier.add(Conv2D(256,3,activation = 'relu', input_shape=(64,64,3)))\n",
        "classifier.add(MaxPool2D())\n",
        "\n",
        "\n",
        "classifier.add(Flatten())\n",
        "\n",
        "classifier.add(Dense(256, activation = 'relu'))\n",
        "classifier.add(Dense(128, activation = 'relu'))\n",
        "\n",
        "classifier.add(Dense(64, activation = 'relu'))\n",
        "\n",
        "classifier.add(Dense(32, activation = 'relu'))\n",
        "\n",
        "classifier.add(Dense(1, activation = 'sigmoid'))"
      ],
      "execution_count": 18,
      "outputs": []
    },
    {
      "cell_type": "code",
      "metadata": {
        "colab": {
          "base_uri": "https://localhost:8080/"
        },
        "id": "hNNb6zeS4Nmd",
        "outputId": "59ff3241-c9cb-4513-b7af-21755f694578"
      },
      "source": [
        "classifier.compile(optimizer = 'adam', loss = 'binary_crossentropy', metrics = ['accuracy'])\n",
        "history = classifier.fit(training_set, epochs = 10, validation_data=test_set)"
      ],
      "execution_count": 19,
      "outputs": [
        {
          "output_type": "stream",
          "name": "stdout",
          "text": [
            "Epoch 1/10\n",
            "10/10 [==============================] - 48s 4s/step - loss: 0.6076 - accuracy: 0.7109 - val_loss: 0.5267 - val_accuracy: 0.7525\n",
            "Epoch 2/10\n",
            "10/10 [==============================] - 35s 3s/step - loss: 0.4141 - accuracy: 0.7559 - val_loss: 0.3113 - val_accuracy: 0.7525\n",
            "Epoch 3/10\n",
            "10/10 [==============================] - 37s 4s/step - loss: 0.2911 - accuracy: 0.8411 - val_loss: 0.3338 - val_accuracy: 0.8119\n",
            "Epoch 4/10\n",
            "10/10 [==============================] - 35s 4s/step - loss: 0.2738 - accuracy: 0.9036 - val_loss: 0.3708 - val_accuracy: 0.8119\n",
            "Epoch 5/10\n",
            "10/10 [==============================] - 35s 3s/step - loss: 0.2208 - accuracy: 0.9111 - val_loss: 0.1844 - val_accuracy: 0.9505\n",
            "Epoch 6/10\n",
            "10/10 [==============================] - 36s 4s/step - loss: 0.1469 - accuracy: 0.9462 - val_loss: 0.0634 - val_accuracy: 0.9802\n",
            "Epoch 7/10\n",
            "10/10 [==============================] - 35s 3s/step - loss: 0.1608 - accuracy: 0.9424 - val_loss: 0.2556 - val_accuracy: 0.9307\n",
            "Epoch 8/10\n",
            "10/10 [==============================] - 35s 4s/step - loss: 0.1672 - accuracy: 0.9337 - val_loss: 0.0785 - val_accuracy: 0.9802\n",
            "Epoch 9/10\n",
            "10/10 [==============================] - 35s 3s/step - loss: 0.1304 - accuracy: 0.9474 - val_loss: 0.0686 - val_accuracy: 0.9802\n",
            "Epoch 10/10\n",
            "10/10 [==============================] - 35s 3s/step - loss: 0.1286 - accuracy: 0.9512 - val_loss: 0.0618 - val_accuracy: 0.9802\n"
          ]
        }
      ]
    },
    {
      "cell_type": "code",
      "source": [
        "Y_pred_test = classifier.predict(val_set)\n",
        "Y_pred_test.shape"
      ],
      "metadata": {
        "id": "LwX_h3F6268z",
        "colab": {
          "base_uri": "https://localhost:8080/"
        },
        "outputId": "6795392b-6239-4262-ccf1-c3a5f631fe1f"
      },
      "execution_count": 20,
      "outputs": [
        {
          "output_type": "execute_result",
          "data": {
            "text/plain": [
              "(99, 1)"
            ]
          },
          "metadata": {},
          "execution_count": 20
        }
      ]
    },
    {
      "cell_type": "code",
      "source": [
        "print(Y_pred_test)"
      ],
      "metadata": {
        "colab": {
          "base_uri": "https://localhost:8080/"
        },
        "id": "2iTUxoZ5yJFi",
        "outputId": "0dcd7eb4-b8cb-4c99-ec7b-4c7696b59ad9"
      },
      "execution_count": 21,
      "outputs": [
        {
          "output_type": "stream",
          "name": "stdout",
          "text": [
            "[[9.97524440e-01]\n",
            " [1.26379728e-03]\n",
            " [1.66088343e-04]\n",
            " [4.73330829e-06]\n",
            " [5.53835707e-05]\n",
            " [7.32392073e-04]\n",
            " [1.39436861e-05]\n",
            " [1.69456507e-05]\n",
            " [6.60651722e-06]\n",
            " [9.76118445e-01]\n",
            " [9.99853492e-01]\n",
            " [2.11715698e-04]\n",
            " [2.18808651e-04]\n",
            " [4.37261515e-05]\n",
            " [3.06680799e-03]\n",
            " [3.96106843e-05]\n",
            " [9.99918103e-01]\n",
            " [2.24948162e-05]\n",
            " [9.97305274e-01]\n",
            " [9.50723886e-04]\n",
            " [9.98519421e-01]\n",
            " [3.30488147e-05]\n",
            " [4.65679987e-05]\n",
            " [1.31663796e-06]\n",
            " [8.69613528e-01]\n",
            " [6.06542826e-03]\n",
            " [9.96938586e-01]\n",
            " [1.03241205e-03]\n",
            " [1.86698380e-05]\n",
            " [5.55008650e-04]\n",
            " [3.79770790e-05]\n",
            " [3.17354079e-06]\n",
            " [1.94242597e-03]\n",
            " [9.99906301e-01]\n",
            " [2.76486412e-06]\n",
            " [6.35282099e-02]\n",
            " [9.97972488e-01]\n",
            " [9.13296681e-05]\n",
            " [6.31826467e-08]\n",
            " [9.87437963e-02]\n",
            " [3.09008360e-03]\n",
            " [2.14190222e-05]\n",
            " [7.97118783e-01]\n",
            " [5.62000275e-03]\n",
            " [1.85155869e-03]\n",
            " [2.55786034e-07]\n",
            " [9.87185717e-01]\n",
            " [4.65178418e-05]\n",
            " [4.13495302e-03]\n",
            " [9.99933839e-01]\n",
            " [7.80768823e-06]\n",
            " [3.28972164e-05]\n",
            " [3.76248360e-03]\n",
            " [1.44863725e-02]\n",
            " [1.53455380e-06]\n",
            " [5.35875559e-04]\n",
            " [9.56383824e-01]\n",
            " [2.66134739e-04]\n",
            " [5.48862154e-05]\n",
            " [1.08673771e-06]\n",
            " [3.92434004e-07]\n",
            " [9.13819849e-01]\n",
            " [9.99574065e-01]\n",
            " [6.60583377e-03]\n",
            " [1.57064199e-03]\n",
            " [9.99947309e-01]\n",
            " [6.49422407e-04]\n",
            " [3.42720747e-03]\n",
            " [1.17993350e-05]\n",
            " [4.02837992e-04]\n",
            " [3.74358892e-02]\n",
            " [8.63698125e-03]\n",
            " [1.92570984e-02]\n",
            " [6.52560592e-03]\n",
            " [1.65796280e-03]\n",
            " [8.54998827e-04]\n",
            " [1.24925971e-02]\n",
            " [9.30928707e-01]\n",
            " [1.25812348e-05]\n",
            " [6.44313097e-02]\n",
            " [1.91873312e-03]\n",
            " [1.97798684e-07]\n",
            " [1.54316425e-04]\n",
            " [9.99992490e-01]\n",
            " [9.35858488e-03]\n",
            " [9.99959588e-01]\n",
            " [3.28063965e-04]\n",
            " [9.96943712e-01]\n",
            " [7.62544870e-02]\n",
            " [4.15501017e-05]\n",
            " [2.36842036e-03]\n",
            " [5.40286303e-04]\n",
            " [4.46353297e-05]\n",
            " [3.87377441e-02]\n",
            " [5.16935330e-08]\n",
            " [1.40050161e-05]\n",
            " [3.21635571e-06]\n",
            " [9.28638518e-01]\n",
            " [9.87908483e-01]]\n"
          ]
        }
      ]
    },
    {
      "cell_type": "code",
      "source": [
        "plt.imshow(val_set[0][0][35])\n",
        "classes[int(val_set[0][1][35])]"
      ],
      "metadata": {
        "id": "re8n_W6F3k3s",
        "colab": {
          "base_uri": "https://localhost:8080/",
          "height": 286
        },
        "outputId": "f3c0ade5-fe45-4d73-858a-802907c27dfc"
      },
      "execution_count": 22,
      "outputs": [
        {
          "output_type": "execute_result",
          "data": {
            "application/vnd.google.colaboratory.intrinsic+json": {
              "type": "string"
            },
            "text/plain": [
              "'Fire'"
            ]
          },
          "metadata": {},
          "execution_count": 22
        },
        {
          "output_type": "display_data",
          "data": {
            "image/png": "[encoded data removed]",
            "text/plain": [
              "<Figure size 432x288 with 1 Axes>"
            ]
          },
          "metadata": {
            "needs_background": "light"
          }
        }
      ]
    },
    {
      "cell_type": "code",
      "source": [
        "print(val_set[0][1][13])\n",
        "print(Y_pred_test.round()[13])"
      ],
      "metadata": {
        "id": "jrDH5A57Mqjd",
        "colab": {
          "base_uri": "https://localhost:8080/"
        },
        "outputId": "04eccc26-fa39-404c-8aff-6ec9aa4120cc"
      },
      "execution_count": 23,
      "outputs": [
        {
          "output_type": "stream",
          "name": "stdout",
          "text": [
            "1.0\n",
            "[0.]\n"
          ]
        }
      ]
    },
    {
      "cell_type": "code",
      "source": [
        "print(Y_pred_test[35])"
      ],
      "metadata": {
        "id": "mwXFwmFtNJZU",
        "colab": {
          "base_uri": "https://localhost:8080/"
        },
        "outputId": "45891d12-49bb-467a-eaa2-745e9b9a1f11"
      },
      "execution_count": 24,
      "outputs": [
        {
          "output_type": "stream",
          "name": "stdout",
          "text": [
            "[0.06352821]\n"
          ]
        }
      ]
    },
    {
      "cell_type": "code",
      "source": [
        "print(Y_pred_test.shape)"
      ],
      "metadata": {
        "colab": {
          "base_uri": "https://localhost:8080/"
        },
        "id": "kOEr4PybbPJn",
        "outputId": "508a5407-75e5-4b16-97b7-169621e31e22"
      },
      "execution_count": 25,
      "outputs": [
        {
          "output_type": "stream",
          "name": "stdout",
          "text": [
            "(99, 1)\n"
          ]
        }
      ]
    },
    {
      "cell_type": "code",
      "source": [
        "print(f'Accuracy is : {accuracy_score(val_set[0][1], Y_pred_test.round())}')\n",
        "print(f'F1 Score is : {f1_score(val_set[0][1], Y_pred_test.round(), average = \"weighted\")}.')\n",
        "print(f'Precision is : {precision_score(val_set[0][1], Y_pred_test.round(), average=\"weighted\")}.')\n",
        "print(f'Recall is : {recall_score(val_set[0][1], Y_pred_test.round(), average = \"weighted\")}.')\n"
      ],
      "metadata": {
        "id": "vlOuVVXH5czi",
        "colab": {
          "base_uri": "https://localhost:8080/"
        },
        "outputId": "51418a41-b16b-4202-8eb1-7fbe4a169850"
      },
      "execution_count": 26,
      "outputs": [
        {
          "output_type": "stream",
          "name": "stdout",
          "text": [
            "Accuracy is : 0.6666666666666666\n",
            "F1 Score is : 0.6642243201352683.\n",
            "Precision is : 0.6618993135011442.\n",
            "Recall is : 0.6666666666666666.\n"
          ]
        }
      ]
    },
    {
      "cell_type": "code",
      "source": [
        "plt.figure(figsize = (12,8))\n",
        "plt.plot(history.history['accuracy'], color = 'red', label = 'Train')\n",
        "plt.plot(history.history['val_accuracy'], color = 'blue', label = 'Validation')\n",
        "plt.ylabel('accuracy')\n",
        "plt.xlabel('Epochs')\n",
        "plt.title('Model Accuracy')\n",
        "plt.legend()\n",
        "plt.show()"
      ],
      "metadata": {
        "id": "631c4S4H5cYK",
        "colab": {
          "base_uri": "https://localhost:8080/",
          "height": 513
        },
        "outputId": "0abbb270-0ff9-4e91-f9a1-e6c6055fff12"
      },
      "execution_count": 27,
      "outputs": [
        {
          "output_type": "display_data",
          "data": {
            "image/png": "[encoded data removed]",
            "text/plain": [
              "<Figure size 864x576 with 1 Axes>"
            ]
          },
          "metadata": {
            "needs_background": "light"
          }
        }
      ]
    },
    {
      "cell_type": "code",
      "source": [
        "plt.figure(figsize = (12,8))\n",
        "plt.plot(history.history['loss'], color = 'red', label = 'Train')\n",
        "plt.plot(history.history['val_loss'], color = 'blue', label = 'Validation')\n",
        "plt.ylabel('Loss')\n",
        "plt.xlabel('Epochs')\n",
        "plt.title('Model Loss')\n",
        "plt.legend()\n",
        "plt.show()"
      ],
      "metadata": {
        "id": "rvYqmYGF-GLK",
        "colab": {
          "base_uri": "https://localhost:8080/",
          "height": 513
        },
        "outputId": "fab9193a-1f08-4326-c094-3d6fdf4eb2cf"
      },
      "execution_count": 28,
      "outputs": [
        {
          "output_type": "display_data",
          "data": {
            "image/png": "[encoded data removed]",
            "text/plain": [
              "<Figure size 864x576 with 1 Axes>"
            ]
          },
          "metadata": {
            "needs_background": "light"
          }
        }
      ]
    },
    {
      "cell_type": "code",
      "source": [
        "from sklearn import metrics\n",
        "from sklearn.metrics import confusion_matrix, ConfusionMatrixDisplay\n"
      ],
      "metadata": {
        "id": "sughQogyGCvJ"
      },
      "execution_count": 29,
      "outputs": []
    },
    {
      "cell_type": "code",
      "source": [
        "conf_mat = confusion_matrix(val_set[0][1], Y_pred_test.round())\n",
        "print(conf_mat)"
      ],
      "metadata": {
        "id": "mBC-IsYpB2Sh",
        "colab": {
          "base_uri": "https://localhost:8080/"
        },
        "outputId": "037d57b3-0a5e-43ed-dbab-12fba5da413d"
      },
      "execution_count": 30,
      "outputs": [
        {
          "output_type": "stream",
          "name": "stdout",
          "text": [
            "[[59 16]\n",
            " [17  7]]\n"
          ]
        }
      ]
    },
    {
      "cell_type": "code",
      "source": [
        "import seaborn as sns\n",
        "\n",
        "plt.figure(figsize = (9,5))\n",
        "colormap = sns.color_palette('Blues', 12)\n",
        "sns.heatmap(conf_mat, annot = True, fmt = 'g')\n",
        "posx, text_valx = plt.xticks()\n",
        "posy, text_valy = plt.yticks()\n",
        "\n",
        "\n",
        "\n",
        "\n",
        "plt.xticks(posx, ['Fire', 'No Fire'], fontsize = 15)\n",
        "plt.yticks(posy, ['Fire', 'No Fire'], fontsize = 15, rotation = 0, va ='center')\n",
        "plt.xlabel('Predicted',fontsize=25)\n",
        "plt.ylabel('Actual', fontsize = 25)\n",
        "plt.title('Fire Detection / Confusion Matrix', fontsize = 25)\n",
        "\n",
        "plt.tight_layout()\n",
        "plt.show()"
      ],
      "metadata": {
        "id": "a2M09b2PF_2g",
        "colab": {
          "base_uri": "https://localhost:8080/",
          "height": 369
        },
        "outputId": "db1ef33e-423e-4d0f-c9cb-f7079a9d0de9"
      },
      "execution_count": 31,
      "outputs": [
        {
          "output_type": "display_data",
          "data": {
            "image/png": "[encoded data removed]",
            "text/plain": [
              "<Figure size 648x360 with 2 Axes>"
            ]
          },
          "metadata": {
            "needs_background": "light"
          }
        }
      ]
    },
    {
      "cell_type": "code",
      "metadata": {
        "id": "UUzU0FtX40ti"
      },
      "source": [
        "classifier.save(r'/content/drive/MyDrive/Colab Notebooks/Deep Learning Projects/Fire Detection/fire_detection_98.h5')"
      ],
      "execution_count": 32,
      "outputs": []
    },
    {
      "cell_type": "code",
      "metadata": {
        "id": "EVT3ojMe99Gj",
        "colab": {
          "base_uri": "https://localhost:8080/"
        },
        "outputId": "e31c782f-d926-4026-97b2-137b1c117906"
      },
      "source": [
        "from keras.models import load_model\n",
        "\n",
        "model = load_model('/content/drive/MyDrive/Colab Notebooks/Deep Learning Projects/Fire Detection/fire_detection_98.h5')\n",
        "\n",
        "# # read the image\n",
        "test_image = image.load_img('/content/drive/MyDrive/Colab Notebooks/Deep Learning Projects/Fire Detection/Images from Web/1Fire.jpg',\n",
        "                            target_size=(64,64))\n",
        "\n",
        "# # image to array\n",
        "test_image = image.img_to_array(test_image)\n",
        "test_image = image.smart_resize(test_image, (64,64))\n",
        "\n",
        "test_image = test_image.reshape(1,64,64,3)\n",
        "\n",
        "result = model.predict(test_image).argmax(axis=1)\n",
        "\n",
        "print(classes[result[0]])\n",
        "\n"
      ],
      "execution_count": 33,
      "outputs": [
        {
          "output_type": "stream",
          "name": "stdout",
          "text": [
            "Fire\n"
          ]
        }
      ]
    },
    {
      "cell_type": "code",
      "source": [
        ""
      ],
      "metadata": {
        "id": "OHNq9xNl0OTR"
      },
      "execution_count": 33,
      "outputs": []
    }
  ]
}