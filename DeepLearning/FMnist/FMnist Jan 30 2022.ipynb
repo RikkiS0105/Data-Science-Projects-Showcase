{
 "cells": [
  {
   "cell_type": "code",
   "execution_count": 1,
   "metadata": {
    "id": "HG-rDN-Hka2-"
   },
   "outputs": [],
   "source": [
    "import tensorflow\n",
    "import numpy as np\n",
    "import pandas as pd\n",
    "from tensorflow.keras.datasets import fashion_mnist\n",
    "from tensorflow.keras.layers import Conv2D, MaxPool2D, Dense, Dropout, Flatten\n",
    "from tensorflow.keras.models import Sequential\n",
    "from sklearn.metrics import accuracy_score, f1_score, precision_score, recall_score\n",
    "import matplotlib.pyplot as plt\n"
   ]
  },
  {
   "cell_type": "code",
   "execution_count": 2,
   "metadata": {
    "id": "m1EBrDe1mZHS"
   },
   "outputs": [],
   "source": [
    "(x_train, y_train), (x_test, y_test) = fashion_mnist.load_data()\n"
   ]
  },
  {
   "cell_type": "code",
   "execution_count": 3,
   "metadata": {
    "colab": {
     "base_uri": "https://localhost:8080/"
    },
    "id": "3TgSc4pzmxbX",
    "outputId": "042fa1da-47ad-4f2a-8d0b-fae16f75a248"
   },
   "outputs": [
    {
     "data": {
      "text/plain": [
       "(60000, 28, 28)"
      ]
     },
     "execution_count": 3,
     "metadata": {},
     "output_type": "execute_result"
    }
   ],
   "source": [
    "x_train.shape"
   ]
  },
  {
   "cell_type": "code",
   "execution_count": 4,
   "metadata": {},
   "outputs": [
    {
     "data": {
      "text/plain": [
       "(10000, 28, 28)"
      ]
     },
     "execution_count": 4,
     "metadata": {},
     "output_type": "execute_result"
    }
   ],
   "source": [
    "x_test.shape"
   ]
  },
  {
   "cell_type": "code",
   "execution_count": 5,
   "metadata": {},
   "outputs": [
    {
     "name": "stdout",
     "output_type": "stream",
     "text": [
      "(60000, 28, 28, 1)\n",
      "(10000, 28, 28, 1)\n"
     ]
    }
   ],
   "source": [
    "x_train = x_train.reshape(60000,28,28,1)\n",
    "x_test = x_test.reshape(10000,28,28,1)\n",
    "print(x_train.shape)\n",
    "print(x_test.shape)"
   ]
  },
  {
   "cell_type": "code",
   "execution_count": 6,
   "metadata": {
    "id": "kMoDUBnHm_nk"
   },
   "outputs": [],
   "source": [
    "classes = ['T-Shirt/Top','Trouser' , 'Pullover' , 'Dress' , 'Coat' , 'Sandals' , 'Shirt' , 'Sneaker' , 'Bag' , 'Ankle Boots']"
   ]
  },
  {
   "cell_type": "code",
   "execution_count": 7,
   "metadata": {
    "colab": {
     "base_uri": "https://localhost:8080/",
     "height": 284
    },
    "id": "z1pmlkA8nSGV",
    "outputId": "ef4f3034-600f-41f7-c0ac-9ca5e94b8442"
   },
   "outputs": [
    {
     "data": {
      "text/plain": [
       "'T-Shirt/Top'"
      ]
     },
     "execution_count": 7,
     "metadata": {},
     "output_type": "execute_result"
    },
    {
     "data": {
      "image/png": "[encoded data removed]",
      "text/plain": [
       "<Figure size 432x288 with 1 Axes>"
      ]
     },
     "metadata": {
      "needs_background": "light"
     },
     "output_type": "display_data"
    }
   ],
   "source": [
    "plt.imshow(x_train[1])\n",
    "classes[y_train[1]]"
   ]
  },
  {
   "cell_type": "code",
   "execution_count": 8,
   "metadata": {
    "colab": {
     "base_uri": "https://localhost:8080/",
     "height": 284
    },
    "id": "unlXCWvUolG1",
    "outputId": "749b886b-6639-46b7-a176-308e921910f6"
   },
   "outputs": [
    {
     "data": {
      "text/plain": [
       "'Sandals'"
      ]
     },
     "execution_count": 8,
     "metadata": {},
     "output_type": "execute_result"
    },
    {
     "data": {
      "image/png": "[encoded data removed]",
      "text/plain": [
       "<Figure size 432x288 with 1 Axes>"
      ]
     },
     "metadata": {
      "needs_background": "light"
     },
     "output_type": "display_data"
    }
   ],
   "source": [
    "plt.imshow(x_train[1250])\n",
    "classes[y_train[1250]]"
   ]
  },
  {
   "cell_type": "code",
   "execution_count": 9,
   "metadata": {
    "colab": {
     "base_uri": "https://localhost:8080/",
     "height": 284
    },
    "id": "LkZl5jL5orSg",
    "outputId": "7e9dcd1a-e390-4104-a29a-3dc07ff0d9d0"
   },
   "outputs": [
    {
     "data": {
      "text/plain": [
       "'Dress'"
      ]
     },
     "execution_count": 9,
     "metadata": {},
     "output_type": "execute_result"
    },
    {
     "data": {
      "image/png": "[encoded data removed]",
      "text/plain": [
       "<Figure size 432x288 with 1 Axes>"
      ]
     },
     "metadata": {
      "needs_background": "light"
     },
     "output_type": "display_data"
    }
   ],
   "source": [
    "plt.imshow(x_train[25])\n",
    "classes[y_train[25]]"
   ]
  },
  {
   "cell_type": "code",
   "execution_count": 10,
   "metadata": {
    "id": "nE-XliX3o0ZM"
   },
   "outputs": [],
   "source": [
    "X_train, X_test = x_train/255, x_test/255"
   ]
  },
  {
   "cell_type": "code",
   "execution_count": 11,
   "metadata": {
    "id": "pOqNk9mupJO4"
   },
   "outputs": [],
   "source": [
    "model = Sequential()\n",
    "\n",
    "model.add(Conv2D(28, 2, activation = \"relu\", kernel_initializer= 'he_uniform',))\n",
    "model.add(MaxPool2D())\n",
    "\n",
    "model.add(Conv2D(56, 2, activation = \"relu\", kernel_initializer= 'he_uniform',))\n",
    "model.add(MaxPool2D())\n",
    "\n",
    "model.add(Conv2D(112, 2, activation = \"relu\", kernel_initializer= 'he_uniform',))\n",
    "model.add(MaxPool2D())\n",
    "\n",
    "model.add(Flatten())\n",
    "\n"
   ]
  },
  {
   "cell_type": "code",
   "execution_count": 12,
   "metadata": {
    "id": "pneVsLqlqPN1"
   },
   "outputs": [],
   "source": [
    "model.add(Dense(224, activation = \"relu\", kernel_initializer='he_uniform'))\n",
    "model.add(Dense(112, activation = \"relu\", kernel_initializer='he_uniform'))\n",
    "model.add(Dense(56, activation = \"sigmoid\"))\n",
    "model.add(Dense(10, activation = 'softmax'))\n",
    "\n",
    "model.compile(optimizer=\"SGD\", loss = tensorflow.keras.losses.sparse_categorical_crossentropy, metrics= ['accuracy'])\n"
   ]
  },
  {
   "cell_type": "code",
   "execution_count": 13,
   "metadata": {
    "colab": {
     "base_uri": "https://localhost:8080/"
    },
    "id": "TyBgkp_xrD99",
    "outputId": "e843fdf2-cb0a-42c2-f69d-00496cfe0878"
   },
   "outputs": [
    {
     "name": "stdout",
     "output_type": "stream",
     "text": [
      "Epoch 1/15\n",
      "1350/1350 [==============================] - 39s 28ms/step - loss: 1.3183 - accuracy: 0.5734 - val_loss: 0.8658 - val_accuracy: 0.7128\n",
      "Epoch 2/15\n",
      "1350/1350 [==============================] - 37s 27ms/step - loss: 0.7631 - accuracy: 0.7280 - val_loss: 0.6646 - val_accuracy: 0.7638\n",
      "Epoch 3/15\n",
      "1350/1350 [==============================] - 38s 28ms/step - loss: 0.6377 - accuracy: 0.7703 - val_loss: 0.5995 - val_accuracy: 0.7805\n",
      "Epoch 4/15\n",
      "1350/1350 [==============================] - 36s 26ms/step - loss: 0.5696 - accuracy: 0.7936 - val_loss: 0.5505 - val_accuracy: 0.8003\n",
      "Epoch 5/15\n",
      "1350/1350 [==============================] - 38s 28ms/step - loss: 0.5257 - accuracy: 0.8102 - val_loss: 0.5353 - val_accuracy: 0.8083\n",
      "Epoch 6/15\n",
      "1350/1350 [==============================] - 38s 28ms/step - loss: 0.4935 - accuracy: 0.8233 - val_loss: 0.4894 - val_accuracy: 0.8237\n",
      "Epoch 7/15\n",
      "1350/1350 [==============================] - 39s 29ms/step - loss: 0.4668 - accuracy: 0.8328 - val_loss: 0.4577 - val_accuracy: 0.8370\n",
      "Epoch 8/15\n",
      "1350/1350 [==============================] - 38s 28ms/step - loss: 0.4460 - accuracy: 0.8397 - val_loss: 0.4415 - val_accuracy: 0.8387\n",
      "Epoch 9/15\n",
      "1350/1350 [==============================] - 37s 27ms/step - loss: 0.4283 - accuracy: 0.8451 - val_loss: 0.4238 - val_accuracy: 0.8432\n",
      "Epoch 10/15\n",
      "1350/1350 [==============================] - 36s 27ms/step - loss: 0.4142 - accuracy: 0.8497 - val_loss: 0.4190 - val_accuracy: 0.8407\n",
      "Epoch 11/15\n",
      "1350/1350 [==============================] - 36s 27ms/step - loss: 0.4013 - accuracy: 0.8542 - val_loss: 0.4214 - val_accuracy: 0.8425\n",
      "Epoch 12/15\n",
      "1350/1350 [==============================] - 37s 27ms/step - loss: 0.3893 - accuracy: 0.8583 - val_loss: 0.3980 - val_accuracy: 0.8527\n",
      "Epoch 13/15\n",
      "1350/1350 [==============================] - 37s 27ms/step - loss: 0.3795 - accuracy: 0.8628 - val_loss: 0.4156 - val_accuracy: 0.8467\n",
      "Epoch 14/15\n",
      "1350/1350 [==============================] - 37s 27ms/step - loss: 0.3686 - accuracy: 0.8656 - val_loss: 0.3784 - val_accuracy: 0.8573\n",
      "Epoch 15/15\n",
      "1350/1350 [==============================] - 36s 27ms/step - loss: 0.3593 - accuracy: 0.8693 - val_loss: 0.3698 - val_accuracy: 0.8618\n"
     ]
    }
   ],
   "source": [
    "history = model.fit(X_train, y_train, epochs=15, batch_size = 40, validation_split = 0.1)"
   ]
  },
  {
   "cell_type": "code",
   "execution_count": 14,
   "metadata": {
    "colab": {
     "base_uri": "https://localhost:8080/"
    },
    "id": "ItC-59LCreRe",
    "outputId": "4fb1aa25-ea58-45f9-a776-6410a4810105"
   },
   "outputs": [
    {
     "data": {
      "text/plain": [
       "(10000,)"
      ]
     },
     "execution_count": 14,
     "metadata": {},
     "output_type": "execute_result"
    }
   ],
   "source": [
    "Y_Pred = model.predict(x_test).argmax(axis=1)\n",
    "\n",
    "Y_Pred.shape"
   ]
  },
  {
   "cell_type": "code",
   "execution_count": 15,
   "metadata": {
    "colab": {
     "base_uri": "https://localhost:8080/"
    },
    "id": "uBaI0wc9tndG",
    "outputId": "48be757a-f405-41e4-bd90-d193269b15f4"
   },
   "outputs": [
    {
     "name": "stdout",
     "output_type": "stream",
     "text": [
      "Accuracy is : 0.827\n",
      "F1 Score is : 0.8235056927927088.\n",
      "Precision is : 0.8338766496812406.\n",
      "Recall is : 0.827.\n"
     ]
    }
   ],
   "source": [
    "print(f'Accuracy is : {accuracy_score(Y_Pred, y_test)}')\n",
    "print(f'F1 Score is : {f1_score(y_test, Y_Pred, average= \"weighted\")}.')\n",
    "print(f'Precision is : {precision_score(y_test, Y_Pred, average=\"weighted\")}.')\n",
    "print(f'Recall is : {recall_score(y_test, Y_Pred, average = \"weighted\")}.')\n"
   ]
  },
  {
   "cell_type": "code",
   "execution_count": 16,
   "metadata": {
    "colab": {
     "base_uri": "https://localhost:8080/",
     "height": 513
    },
    "id": "3mGhg02XuXDc",
    "outputId": "19414cb6-4cea-4ea3-8f37-a9f6c51e7912"
   },
   "outputs": [
    {
     "data": {
      "image/png": "[encoded data removed]",
      "text/plain": [
       "<Figure size 864x576 with 1 Axes>"
      ]
     },
     "metadata": {
      "needs_background": "light"
     },
     "output_type": "display_data"
    }
   ],
   "source": [
    "plt.figure(figsize = (12,8))\n",
    "plt.plot(history.history['accuracy'], color = 'red', label = 'Train')\n",
    "plt.plot(history.history['val_accuracy'], color = 'blue', label = 'Validation')\n",
    "plt.ylabel('accuracy')\n",
    "plt.xlabel('Epochs')\n",
    "plt.title('Model Accuracy')\n",
    "plt.legend()\n",
    "plt.show()"
   ]
  },
  {
   "cell_type": "code",
   "execution_count": 17,
   "metadata": {
    "colab": {
     "base_uri": "https://localhost:8080/",
     "height": 513
    },
    "id": "9G5Xz3ZRvlvR",
    "outputId": "0518ef12-8068-4a18-ab2e-0a9d51c6ef29"
   },
   "outputs": [
    {
     "data": {
      "image/png": "[encoded data removed]",
      "text/plain": [
       "<Figure size 864x576 with 1 Axes>"
      ]
     },
     "metadata": {
      "needs_background": "light"
     },
     "output_type": "display_data"
    }
   ],
   "source": [
    "plt.figure(figsize = (12,8))\n",
    "plt.plot(history.history['loss'], color = 'red', label = 'Train')\n",
    "plt.plot(history.history['val_loss'], color = 'blue', label = 'Validation')\n",
    "plt.ylabel('Loss')\n",
    "plt.xlabel('Epochs')\n",
    "plt.title('Model Loss')\n",
    "plt.legend()\n",
    "plt.show()\n"
   ]
  },
  {
   "cell_type": "code",
   "execution_count": 18,
   "metadata": {
    "colab": {
     "base_uri": "https://localhost:8080/"
    },
    "id": "gR0070Vvv3Qw",
    "outputId": "0779102d-9942-4cfd-8a66-7671c47ed2ea"
   },
   "outputs": [
    {
     "name": "stdout",
     "output_type": "stream",
     "text": [
      "Model: \"sequential\"\n",
      "_________________________________________________________________\n",
      "Layer (type)                 Output Shape              Param #   \n",
      "=================================================================\n",
      "conv2d (Conv2D)              multiple                  140       \n",
      "_________________________________________________________________\n",
      "max_pooling2d (MaxPooling2D) (40, 13, 13, 28)          0         \n",
      "_________________________________________________________________\n",
      "conv2d_1 (Conv2D)            (40, 12, 12, 56)          6328      \n",
      "_________________________________________________________________\n",
      "max_pooling2d_1 (MaxPooling2 (40, 6, 6, 56)            0         \n",
      "_________________________________________________________________\n",
      "conv2d_2 (Conv2D)            (40, 5, 5, 112)           25200     \n",
      "_________________________________________________________________\n",
      "max_pooling2d_2 (MaxPooling2 (40, 2, 2, 112)           0         \n",
      "_________________________________________________________________\n",
      "flatten (Flatten)            (40, 448)                 0         \n",
      "_________________________________________________________________\n",
      "dense (Dense)                (40, 224)                 100576    \n",
      "_________________________________________________________________\n",
      "dense_1 (Dense)              (40, 112)                 25200     \n",
      "_________________________________________________________________\n",
      "dense_2 (Dense)              (40, 56)                  6328      \n",
      "_________________________________________________________________\n",
      "dense_3 (Dense)              (40, 10)                  570       \n",
      "=================================================================\n",
      "Total params: 164,342\n",
      "Trainable params: 164,342\n",
      "Non-trainable params: 0\n",
      "_________________________________________________________________\n"
     ]
    }
   ],
   "source": [
    "model.summary()"
   ]
  },
  {
   "cell_type": "code",
   "execution_count": 19,
   "metadata": {
    "id": "5Co4S5lfvxd8"
   },
   "outputs": [],
   "source": [
    "model.save(r'C:\\Users\\Vikas\\Documents\\Computer Learning\\Data Science and AI Machine Learning\\Hands On projects\\Deep Learning\\FMNIST\\FMNIST_87.h5')"
   ]
  },
  {
   "cell_type": "code",
   "execution_count": null,
   "metadata": {},
   "outputs": [],
   "source": []
  }
 ],
 "metadata": {
  "accelerator": "GPU",
  "colab": {
   "collapsed_sections": [],
   "name": "CNN Cifar10 Aug 16, 2021.ipynb",
   "provenance": []
  },
  "kernelspec": {
   "display_name": "Python 3",
   "language": "python",
   "name": "python3"
  },
  "language_info": {
   "codemirror_mode": {
    "name": "ipython",
    "version": 3
   },
   "file_extension": ".py",
   "mimetype": "text/x-python",
   "name": "python",
   "nbconvert_exporter": "python",
   "pygments_lexer": "ipython3",
   "version": "3.8.5"
  }
 },
 "nbformat": 4,
 "nbformat_minor": 1
}
